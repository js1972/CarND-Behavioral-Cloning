{
 "cells": [
  {
   "cell_type": "code",
   "execution_count": 1,
   "metadata": {
    "collapsed": true
   },
   "outputs": [],
   "source": [
    "import csv"
   ]
  },
  {
   "cell_type": "markdown",
   "metadata": {},
   "source": [
    "## Grab all the left and right camera dat append to the center camera column for one large dataset containing all cameras\n",
    "\n",
    "### Note: the left/right camera angles have the steering offset by +/-0.25 respectively."
   ]
  },
  {
   "cell_type": "code",
   "execution_count": 3,
   "metadata": {
    "collapsed": false
   },
   "outputs": [
    {
     "name": "stdout",
     "output_type": "stream",
     "text": [
      "Data augmented and written to file data/driving_log_all.csv\n"
     ]
    }
   ],
   "source": [
    "with open(\"data/driving_log.csv\", \"r\") as r:\n",
    "    with open(\"data/driving_log_all.csv\", \"w\") as w:\n",
    "        reader = csv.reader(r)\n",
    "        writer = csv.writer(w)\n",
    "        \n",
    "        # skip header\n",
    "        next(reader)\n",
    "        \n",
    "        # Write all the center camera rows and add extra rows for each left/right camera\n",
    "        # Note we add 0.25 (+/-) to the steering angles to compensate for left/right images!\n",
    "        for row in reader:\n",
    "            # write first row with center camera\n",
    "            writer.writerow(row)\n",
    "            \n",
    "            current_angle = float(row[3])\n",
    "            \n",
    "            # write second row with left camera and adjusted steering angle\n",
    "            row[0] = row[1].strip()\n",
    "            row[3] = current_angle + 0.25\n",
    "            writer.writerow(row)\n",
    "            \n",
    "            # write third row with right camera ad adjusted steering angle\n",
    "            row[0] = row[2].strip()\n",
    "            row[3] = current_angle - 0.25\n",
    "            writer.writerow(row)\n",
    "        \n",
    "        # data is a list of tuples (img path, steering angle, etc.)\n",
    "        #data = np.array([row for row in reader])\n",
    "\n",
    "print(\"Data augmented and written to file data/driving_log_all.csv\")"
   ]
  },
  {
   "cell_type": "markdown",
   "metadata": {},
   "source": [
    "## Do the same as above but with another file that I recorded"
   ]
  },
  {
   "cell_type": "code",
   "execution_count": 2,
   "metadata": {
    "collapsed": false
   },
   "outputs": [
    {
     "name": "stdout",
     "output_type": "stream",
     "text": [
      "Data augmented and written to extended file with all camera images in 'center'\n"
     ]
    }
   ],
   "source": [
    "with open(\"session_data/driving_log.csv\", \"r\") as r:\n",
    "    with open(\"session_data/driving_log_all.csv\", \"w\") as w:\n",
    "        reader = csv.reader(r)\n",
    "        writer = csv.writer(w)\n",
    "        \n",
    "        # skip header\n",
    "        next(reader)\n",
    "        \n",
    "        # Write all the center camera rows and add extra rows for each left/right camera\n",
    "        # Note we add 0.25 (+/-) to the steering angles to compensate for left/right images!\n",
    "        for row in reader:\n",
    "            # write first row with center camera\n",
    "            writer.writerow(row)\n",
    "            \n",
    "            current_angle = float(row[3])\n",
    "            \n",
    "            # write second row with left camera and adjusted steering angle\n",
    "            row[0] = row[1].strip()\n",
    "            row[3] = current_angle + 0.25\n",
    "            writer.writerow(row)\n",
    "            \n",
    "            # write third row with right camera ad adjusted steering angle\n",
    "            row[0] = row[2].strip()\n",
    "            row[3] = current_angle - 0.25\n",
    "            writer.writerow(row)\n",
    "        \n",
    "        # data is a list of tuples (img path, steering angle, etc.)\n",
    "        #data = np.array([row for row in reader])\n",
    "\n",
    "print(\"Data augmented and written to extended file with all camera images in 'center'\")"
   ]
  },
  {
   "cell_type": "code",
   "execution_count": null,
   "metadata": {
    "collapsed": true
   },
   "outputs": [],
   "source": []
  }
 ],
 "metadata": {
  "anaconda-cloud": {},
  "kernelspec": {
   "display_name": "Python [conda env:keras]",
   "language": "python",
   "name": "conda-env-keras-py"
  },
  "language_info": {
   "codemirror_mode": {
    "name": "ipython",
    "version": 3
   },
   "file_extension": ".py",
   "mimetype": "text/x-python",
   "name": "python",
   "nbconvert_exporter": "python",
   "pygments_lexer": "ipython3",
   "version": "3.5.2"
  }
 },
 "nbformat": 4,
 "nbformat_minor": 2
}
