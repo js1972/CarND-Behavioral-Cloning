{
 "cells": [
  {
   "cell_type": "code",
   "execution_count": 9,
   "metadata": {
    "collapsed": true
   },
   "outputs": [],
   "source": [
    "import csv"
   ]
  },
  {
   "cell_type": "code",
   "execution_count": 10,
   "metadata": {
    "collapsed": false
   },
   "outputs": [
    {
     "name": "stdout",
     "output_type": "stream",
     "text": [
      "Data augmented and written to file data/driving_log_all.csv\n"
     ]
    }
   ],
   "source": [
    "with open(\"data/driving_log.csv\", \"r\") as r:\n",
    "    with open(\"data/driving_log_all.csv\", \"w\") as w:\n",
    "        reader = csv.reader(r)\n",
    "        writer = csv.writer(w)\n",
    "        \n",
    "        # skip header\n",
    "        next(reader)\n",
    "        \n",
    "        # Write all the center camera rows and add extra rows for each left/right camera\n",
    "        for row in reader:\n",
    "            writer.writerow(row)\n",
    "            row[0] = row[1].strip()\n",
    "            writer.writerow(row)\n",
    "            row[0] = row[2].strip()\n",
    "            writer.writerow(row)\n",
    "        \n",
    "        # data is a list of tuples (img path, steering angle, etc.)\n",
    "        #data = np.array([row for row in reader])\n",
    "\n",
    "print(\"Data augmented and written to file data/driving_log_all.csv\")"
   ]
  },
  {
   "cell_type": "code",
   "execution_count": null,
   "metadata": {
    "collapsed": true
   },
   "outputs": [],
   "source": []
  }
 ],
 "metadata": {
  "kernelspec": {
   "display_name": "Python [conda env:keras]",
   "language": "python",
   "name": "conda-env-keras-py"
  },
  "language_info": {
   "codemirror_mode": {
    "name": "ipython",
    "version": 3
   },
   "file_extension": ".py",
   "mimetype": "text/x-python",
   "name": "python",
   "nbconvert_exporter": "python",
   "pygments_lexer": "ipython3",
   "version": "3.5.2"
  }
 },
 "nbformat": 4,
 "nbformat_minor": 2
}
